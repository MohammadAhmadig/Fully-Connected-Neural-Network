{
  "nbformat": 4,
  "nbformat_minor": 0,
  "metadata": {
    "colab": {
      "provenance": [],
      "toc_visible": true,
      "authorship_tag": "ABX9TyMOMKUCynW/IuQCszcF//Y8"
    },
    "kernelspec": {
      "name": "python3",
      "display_name": "Python 3"
    },
    "language_info": {
      "name": "python"
    }
  },
  "cells": [
    {
      "cell_type": "markdown",
      "source": [
        "- MNIST Data - Image - MultiClass Classification"
      ],
      "metadata": {
        "id": "jL-5dfkRvwNp"
      }
    },
    {
      "cell_type": "code",
      "metadata": {
        "colab": {
          "base_uri": "https://localhost:8080/"
        },
        "id": "cxtQxI3tBdFE",
        "outputId": "9e5c24e2-8cb8-4c5b-d246-1d3b8427d1bc"
      },
      "source": [
        "\n",
        "from keras.datasets import mnist\n",
        "from keras import models \n",
        "from keras import layers \n",
        "from tensorflow.keras.utils import to_categorical\n",
        "\n",
        "(train_images, train_labels), (test_images, test_labels) = mnist.load_data()\n",
        "\n",
        "train_images = train_images.reshape((60000, 28 * 28)) \n",
        "train_images = train_images.astype('float32') / 255 \n",
        "test_images = test_images.reshape((10000, 28 * 28)) \n",
        "test_images = test_images.astype('float32') / 255\n",
        "x_val = train_images[:10000]\n",
        "par_train_images = train_images[10000:]\n",
        "\n",
        "train_labels = to_categorical(train_labels)\n",
        "test_labels = to_categorical(test_labels)\n",
        "y_val = train_labels[:10000]\n",
        "par_train_labels = train_labels[10000:]\n",
        "\n",
        "network = models.Sequential()\n",
        "network.add(layers.Dense(512, activation='relu', input_shape=(28 * 28,))) \n",
        "network.add(layers.Dense(10, activation='softmax'))\n",
        "\n",
        "network.compile(optimizer='rmsprop',\n",
        "        loss='categorical_crossentropy', \n",
        "        metrics=['accuracy'])\n",
        "\n",
        "history = network.fit(par_train_images, par_train_labels, epochs=20, batch_size=128, validation_data=(x_val,y_val))\n",
        "\n",
        "test_loss , test_acc = network.evaluate(test_images,test_labels)\n",
        "print('test acc:',test_acc)"
      ],
      "execution_count": null,
      "outputs": [
        {
          "output_type": "stream",
          "name": "stdout",
          "text": [
            "Epoch 1/20\n",
            "391/391 [==============================] - 6s 14ms/step - loss: 0.2763 - accuracy: 0.9197 - val_loss: 0.1706 - val_accuracy: 0.9469\n",
            "Epoch 2/20\n",
            "391/391 [==============================] - 5s 12ms/step - loss: 0.1167 - accuracy: 0.9654 - val_loss: 0.1197 - val_accuracy: 0.9652\n",
            "Epoch 3/20\n",
            "391/391 [==============================] - 5s 12ms/step - loss: 0.0774 - accuracy: 0.9770 - val_loss: 0.0932 - val_accuracy: 0.9717\n",
            "Epoch 4/20\n",
            "391/391 [==============================] - 6s 14ms/step - loss: 0.0545 - accuracy: 0.9836 - val_loss: 0.0809 - val_accuracy: 0.9771\n",
            "Epoch 5/20\n",
            "391/391 [==============================] - 5s 12ms/step - loss: 0.0409 - accuracy: 0.9881 - val_loss: 0.0739 - val_accuracy: 0.9791\n",
            "Epoch 6/20\n",
            "391/391 [==============================] - 5s 12ms/step - loss: 0.0309 - accuracy: 0.9904 - val_loss: 0.0762 - val_accuracy: 0.9785\n",
            "Epoch 7/20\n",
            "391/391 [==============================] - 5s 13ms/step - loss: 0.0236 - accuracy: 0.9929 - val_loss: 0.0749 - val_accuracy: 0.9807\n",
            "Epoch 8/20\n",
            "391/391 [==============================] - 5s 13ms/step - loss: 0.0179 - accuracy: 0.9950 - val_loss: 0.0891 - val_accuracy: 0.9773\n",
            "Epoch 9/20\n",
            "391/391 [==============================] - 5s 13ms/step - loss: 0.0137 - accuracy: 0.9960 - val_loss: 0.0801 - val_accuracy: 0.9788\n",
            "Epoch 10/20\n",
            "391/391 [==============================] - 5s 12ms/step - loss: 0.0105 - accuracy: 0.9971 - val_loss: 0.0810 - val_accuracy: 0.9807\n",
            "Epoch 11/20\n",
            "391/391 [==============================] - 5s 12ms/step - loss: 0.0079 - accuracy: 0.9978 - val_loss: 0.0793 - val_accuracy: 0.9816\n",
            "Epoch 12/20\n",
            "391/391 [==============================] - 6s 14ms/step - loss: 0.0058 - accuracy: 0.9984 - val_loss: 0.0844 - val_accuracy: 0.9794\n",
            "Epoch 13/20\n",
            "391/391 [==============================] - 5s 12ms/step - loss: 0.0044 - accuracy: 0.9989 - val_loss: 0.0853 - val_accuracy: 0.9805\n",
            "Epoch 14/20\n",
            "391/391 [==============================] - 5s 12ms/step - loss: 0.0035 - accuracy: 0.9991 - val_loss: 0.0928 - val_accuracy: 0.9799\n",
            "Epoch 15/20\n",
            "391/391 [==============================] - 5s 12ms/step - loss: 0.0029 - accuracy: 0.9992 - val_loss: 0.0894 - val_accuracy: 0.9803\n",
            "Epoch 16/20\n",
            "391/391 [==============================] - 5s 13ms/step - loss: 0.0021 - accuracy: 0.9994 - val_loss: 0.0908 - val_accuracy: 0.9807\n",
            "Epoch 17/20\n",
            "391/391 [==============================] - 5s 12ms/step - loss: 0.0018 - accuracy: 0.9995 - val_loss: 0.0945 - val_accuracy: 0.9813\n",
            "Epoch 18/20\n",
            "391/391 [==============================] - 5s 12ms/step - loss: 0.0013 - accuracy: 0.9996 - val_loss: 0.1017 - val_accuracy: 0.9789\n",
            "Epoch 19/20\n",
            "391/391 [==============================] - 5s 12ms/step - loss: 0.0011 - accuracy: 0.9997 - val_loss: 0.1035 - val_accuracy: 0.9814\n",
            "Epoch 20/20\n",
            "391/391 [==============================] - 5s 12ms/step - loss: 8.7185e-04 - accuracy: 0.9998 - val_loss: 0.1131 - val_accuracy: 0.9814\n",
            "313/313 [==============================] - 1s 3ms/step - loss: 0.1059 - accuracy: 0.9802\n",
            "test acc: 0.9801999926567078\n"
          ]
        }
      ]
    },
    {
      "cell_type": "code",
      "metadata": {
        "colab": {
          "base_uri": "https://localhost:8080/",
          "height": 265
        },
        "id": "1AUHNy4kFZLn",
        "outputId": "86185074-0dcb-416d-d0c1-f19fd03344ae"
      },
      "source": [
        "from keras.datasets import mnist\n",
        "\n",
        "(train_images, train_labels), (test_images, test_labels) = mnist.load_data()\n",
        "digit = train_images[4]\n",
        "import matplotlib.pyplot as plt\n",
        "plt.imshow(digit , cmap=plt.cm.binary)\n",
        "plt.show()\n"
      ],
      "execution_count": null,
      "outputs": [
        {
          "output_type": "display_data",
          "data": {
            "image/png": "[encoded data removed]",
            "text/plain": [
              "<Figure size 432x288 with 1 Axes>"
            ]
          },
          "metadata": {
            "needs_background": "light"
          }
        }
      ]
    },
    {
      "cell_type": "code",
      "metadata": {
        "id": "WjAOfyG0TWrX",
        "colab": {
          "base_uri": "https://localhost:8080/",
          "height": 295
        },
        "outputId": "5e27a608-f862-4d1b-925d-0642cbd30c1d"
      },
      "source": [
        "# plot validation and train epochs loss\n",
        "import matplotlib.pyplot as plt \n",
        "\n",
        "history_dict = history.history \n",
        "loss_values = history_dict['loss'] \n",
        "val_loss_values = history_dict['val_loss']\n",
        "epochs = range(1, len(loss_values) + 1) \n",
        "\n",
        "plt.plot(epochs, loss_values, 'bo', label='Training loss') \n",
        "plt.plot(epochs, val_loss_values, 'b', label='Validation loss') \n",
        "plt.title('Training and validation loss') \n",
        "plt.xlabel('Epochs') \n",
        "plt.ylabel('Loss') \n",
        "plt.legend() \n",
        "plt.show() "
      ],
      "execution_count": null,
      "outputs": [
        {
          "output_type": "display_data",
          "data": {
            "text/plain": [
              "<Figure size 432x288 with 1 Axes>"
            ],
            "image/png": "[encoded data removed]"
          },
          "metadata": {
            "needs_background": "light"
          }
        }
      ]
    },
    {
      "cell_type": "code",
      "source": [
        "\n",
        "acc_values = history_dict['accuracy'] \n",
        "val_acc_values = history_dict['val_accuracy']\n",
        "epochs = range(1, len(acc_values) + 1) \n",
        "\n",
        "plt.plot(epochs, acc_values, 'bo', label='Training acc') \n",
        "plt.plot(epochs, val_acc_values, 'b', label='Validation acc') \n",
        "plt.title('Training and validation acc') \n",
        "plt.xlabel('Epochs') \n",
        "plt.ylabel('Acc') \n",
        "plt.legend() \n",
        "plt.show() "
      ],
      "metadata": {
        "colab": {
          "base_uri": "https://localhost:8080/",
          "height": 295
        },
        "id": "gYAIWqnVmMqJ",
        "outputId": "d1d49003-867e-483f-8bd0-9f5e951af3e7"
      },
      "execution_count": null,
      "outputs": [
        {
          "output_type": "display_data",
          "data": {
            "text/plain": [
              "<Figure size 432x288 with 1 Axes>"
            ],
            "image/png": "[encoded data removed]"
          },
          "metadata": {
            "needs_background": "light"
          }
        }
      ]
    },
    {
      "cell_type": "markdown",
      "source": [
        "- IMDB Data - Text - Binary Classification\n"
      ],
      "metadata": {
        "id": "KCguf7sMrgI7"
      }
    },
    {
      "cell_type": "code",
      "source": [
        "from keras.datasets import imdb\n",
        "from keras import models \n",
        "from keras import layers \n",
        "from tensorflow.keras.utils import to_categorical\n",
        "import numpy as np\n",
        "\n",
        "(train_data, train_labels), (test_data, test_labels) = imdb.load_data(num_words=10000)\n",
        "\n",
        "def vectorize_sequences(sequences, dimension=10000):\n",
        "  results = np.zeros((len(sequences), dimension) )\n",
        "  for i, sequence in enumerate(sequences):\n",
        "    results[i, sequence] = 1.\n",
        "  return results\n",
        "\n",
        "x_train = vectorize_sequences(train_data) \n",
        "x_test = vectorize_sequences (test_data)\n",
        "y_train = np.asarray(train_labels).astype('float32')\n",
        "y_test = np.asarray(test_labels).astype('float32')\n",
        "\n",
        "model = models.Sequential() \n",
        "model.add(layers.Dense(16, activation='relu', input_shape=(10000,))) \n",
        "model.add(layers.Dense(16, activation='relu')) \n",
        "model.add(layers.Dense(1, activation='sigmoid')) \n",
        "model.compile(optimizer='rmsprop', loss='binary_crossentropy', metrics=['accuracy']) \n",
        "history= model.fit(x_train, y_train, epochs=4, batch_size=512) \n",
        "results = model.evaluate(x_test, y_test) "
      ],
      "metadata": {
        "id": "np0r3ejjrq_H",
        "colab": {
          "base_uri": "https://localhost:8080/"
        },
        "outputId": "85ad33f6-f053-4b3c-d4b9-719d343a2021"
      },
      "execution_count": null,
      "outputs": [
        {
          "output_type": "stream",
          "name": "stdout",
          "text": [
            "Epoch 1/4\n",
            "49/49 [==============================] - 3s 34ms/step - loss: 0.4817 - accuracy: 0.8074\n",
            "Epoch 2/4\n",
            "49/49 [==============================] - 3s 57ms/step - loss: 0.2771 - accuracy: 0.9067\n",
            "Epoch 3/4\n",
            "49/49 [==============================] - 2s 48ms/step - loss: 0.2111 - accuracy: 0.9251\n",
            "Epoch 4/4\n",
            "49/49 [==============================] - 2s 33ms/step - loss: 0.1753 - accuracy: 0.9384\n",
            "782/782 [==============================] - 3s 3ms/step - loss: 0.3352 - accuracy: 0.8658\n"
          ]
        }
      ]
    },
    {
      "cell_type": "code",
      "source": [
        "model.predict(x_test)"
      ],
      "metadata": {
        "colab": {
          "base_uri": "https://localhost:8080/"
        },
        "id": "iw03iLWLdbNr",
        "outputId": "af9fc89a-c4ae-4b1a-8b51-29730d541d03"
      },
      "execution_count": null,
      "outputs": [
        {
          "output_type": "stream",
          "name": "stdout",
          "text": [
            "782/782 [==============================] - 2s 3ms/step\n"
          ]
        },
        {
          "output_type": "execute_result",
          "data": {
            "text/plain": [
              "array([[0.1355831 ],\n",
              "       [0.9996657 ],\n",
              "       [0.63078237],\n",
              "       ...,\n",
              "       [0.09405619],\n",
              "       [0.0458504 ],\n",
              "       [0.3999387 ]], dtype=float32)"
            ]
          },
          "metadata": {},
          "execution_count": 21
        }
      ]
    },
    {
      "cell_type": "markdown",
      "source": [
        "- Reuters Data - Text - MultiClass Classification"
      ],
      "metadata": {
        "id": "GRO6OO8ExAPl"
      }
    },
    {
      "cell_type": "code",
      "source": [
        "from keras.datasets import reuters\n",
        "from keras import models \n",
        "from keras import layers \n",
        "from tensorflow.keras.utils import to_categorical\n",
        "import numpy as np\n",
        "\n",
        "(train_data, train_labels), (test_data, test_labels) = reuters.load_data(num_words=10000)\n",
        "\n",
        "def vectorize_sequences(sequences, dimension=10000):\n",
        "  results = np.zeros((len(sequences), dimension) )\n",
        "  for i, sequence in enumerate(sequences):\n",
        "    results[i, sequence] = 1.\n",
        "  return results\n",
        "\n",
        "x_train = vectorize_sequences(train_data) \n",
        "x_test = vectorize_sequences (test_data)\n",
        "one_hot_train_labels = to_categorical(train_labels)\n",
        "one_hot_test_labels = to_categorical(test_labels)\n",
        "\n",
        "model = models.Sequential() \n",
        "model.add(layers.Dense(64, activation='relu', input_shape=(10000,))) \n",
        "model.add(layers.Dense(64, activation='relu')) \n",
        "model.add(layers.Dense(46, activation='softmax')) \n",
        "model.compile(optimizer='rmsprop', loss='categorical_crossentropy', metrics=['accuracy']) \n",
        "history= model.fit(x_train, one_hot_train_labels, epochs=4, batch_size=512) \n",
        "results = model.evaluate(x_test, one_hot_test_labels) "
      ],
      "metadata": {
        "colab": {
          "base_uri": "https://localhost:8080/"
        },
        "id": "Yq8Qq9__dcc2",
        "outputId": "7f96af33-0aa7-4f0e-e4d5-ab320e141ae8"
      },
      "execution_count": null,
      "outputs": [
        {
          "output_type": "stream",
          "name": "stdout",
          "text": [
            "Downloading data from https://storage.googleapis.com/tensorflow/tf-keras-datasets/reuters.npz\n",
            "2110848/2110848 [==============================] - 0s 0us/step\n",
            "Epoch 1/4\n",
            "18/18 [==============================] - 2s 50ms/step - loss: 2.7367 - accuracy: 0.5223\n",
            "Epoch 2/4\n",
            "18/18 [==============================] - 1s 51ms/step - loss: 1.4065 - accuracy: 0.7222\n",
            "Epoch 3/4\n",
            "18/18 [==============================] - 1s 49ms/step - loss: 1.0004 - accuracy: 0.7928\n",
            "Epoch 4/4\n",
            "18/18 [==============================] - 1s 51ms/step - loss: 0.7771 - accuracy: 0.8413\n",
            "71/71 [==============================] - 1s 7ms/step - loss: 1.0580 - accuracy: 0.7680\n"
          ]
        }
      ]
    },
    {
      "cell_type": "markdown",
      "source": [
        " - Boston-Housing - Digit - House Price Prediction - Regression"
      ],
      "metadata": {
        "id": "ajIp_19bOGtl"
      }
    },
    {
      "cell_type": "code",
      "source": [
        "from keras.datasets import boston_housing\n",
        "from keras import models \n",
        "from keras import layers \n",
        "from tensorflow.keras.utils import to_categorical\n",
        "import numpy as np\n",
        "import matplotlib.pyplot as plt \n",
        "\n",
        "(train_data, train_targets), (test_data, test_targets) = boston_housing.load_data()\n",
        "\n",
        "# normalization\n",
        "mean = train_data.mean(axis=0)\n",
        "train_data -= mean\n",
        "std = train_data.std(axis=0)\n",
        "train_data /= std\n",
        "test_data -= mean\n",
        "test_data /= std\n",
        "\n",
        "def build_model(): \n",
        "  model = models.Sequential()\n",
        "  model.add(layers.Dense(64, activation='relu', input_shape=(train_data.shape[1],)))\n",
        "  model.add(layers.Dense(64, activation='relu'))\n",
        "  model.add(layers.Dense(1))\n",
        "  model.compile(optimizer='rmsprop', loss='mse', metrics=['mae'] )\n",
        "  return model\n",
        "\n",
        "# K fold cross validation\n",
        "k = 4\n",
        "num_val_samples = len(train_data) // k\n",
        "num_epochs = 300\n",
        "all_scores = []\n",
        "all_mae_histories = []\n",
        "\n",
        "for i in range(k):\n",
        "  print('processing fold #', i)\n",
        "  val_data = train_data[i * num_val_samples: (i + 1) * num_val_samples]\n",
        "  val_targets = train_targets[i * num_val_samples: (i + 1) * num_val_samples]\n",
        "\n",
        "  partial_train_data = np.concatenate(\n",
        "  [train_data[:i * num_val_samples],\n",
        "  train_data[(i + 1) * num_val_samples:]], axis=0)\n",
        "\n",
        "  partial_train_targets = np.concatenate(\n",
        "  [train_targets[:i * num_val_samples],\n",
        "  train_targets[(i + 1) * num_val_samples:]], axis=0)\n",
        "\n",
        "  model = build_model()\n",
        "\n",
        "  history = model.fit(partial_train_data, partial_train_targets,\n",
        "  validation_data=(val_data, val_targets),\n",
        "  epochs=num_epochs, batch_size=1, verbose=0)\n",
        "\n",
        "  mae_history = history.history['val_mae']\n",
        "  all_mae_histories.append(mae_history)\n",
        "\n",
        "'''\n",
        "  # first evaluation\n",
        "  model.fit(partial_train_data, partial_train_targets,\n",
        "  epochs=num_epochs, batch_size=1, verbose=0)\n",
        "  val_mse, val_mae = model.evaluate(val_data, val_targets, verbose=0)\n",
        "  all_scores.append(val_mae)\n",
        "'''\n",
        "  \n",
        "average_mae_history = [np.mean([x[i] for x in all_mae_histories]) for i in range(num_epochs)]\n",
        "plt.plot(range(1, len(average_mae_history) + 1), average_mae_history)\n",
        "plt.xlabel ('Epochs')\n",
        "plt.ylabel('Validation MAE')\n",
        "plt.show()\n",
        "\n",
        "# better visualization\n",
        "\n",
        "def smooth_curve(points, factor=0.9):\n",
        "  smoothed_points = []\n",
        "  for point in points:\n",
        "    if smoothed_points:\n",
        "      previous = smoothed_points[-1]\n",
        "      smoothed_points.append(previous * factor + point * (1 - factor))\n",
        "    else:\n",
        "      smoothed_points.append(point)\n",
        "  return smoothed_points\n",
        "\n",
        "smooth_mae_history = smooth_curve(average_mae_history[10:])\n",
        "plt.plot(range(1, len(smooth_mae_history) + 1), smooth_mae_history)\n",
        "plt.xlabel('Epochs')\n",
        "plt.ylabel('Validation MAE')\n",
        "plt.show()\n"
      ],
      "metadata": {
        "id": "sZWUCmi1N73x"
      },
      "execution_count": null,
      "outputs": []
    },
    {
      "cell_type": "code",
      "source": [],
      "metadata": {
        "colab": {
          "base_uri": "https://localhost:8080/",
          "height": 545
        },
        "id": "Qbd31FgTPiZz",
        "outputId": "19149194-6691-438e-fc6f-2912629789a6"
      },
      "execution_count": null,
      "outputs": [
        {
          "output_type": "display_data",
          "data": {
            "text/plain": [
              "<Figure size 432x288 with 1 Axes>"
            ],
            "image/png": "[encoded data removed]"
          },
          "metadata": {
            "needs_background": "light"
          }
        },
        {
          "output_type": "display_data",
          "data": {
            "text/plain": [
              "<Figure size 432x288 with 1 Axes>"
            ],
            "image/png": "[encoded data removed]"
          },
          "metadata": {
            "needs_background": "light"
          }
        }
      ]
    },
    {
      "cell_type": "code",
      "source": [],
      "metadata": {
        "id": "Lvhs4XAOtyBi"
      },
      "execution_count": null,
      "outputs": []
    }
  ]
}